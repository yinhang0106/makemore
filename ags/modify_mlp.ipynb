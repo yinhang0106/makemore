{
 "cells": [
  {
   "cell_type": "code",
   "execution_count": 1,
   "metadata": {},
   "outputs": [],
   "source": [
    "# dataset setup\n",
    "import torch\n",
    "import torch.nn.functional as F\n",
    "import matplotlib.pyplot as plt\n",
    "%matplotlib inline\n",
    "\n",
    "# read all the words in the file\n",
    "words = open(\"../names.txt\").read().splitlines()\n",
    "\n",
    "# build the vocabulary of characters and mapping to/from integers\n",
    "chars = sorted(list(set(''.join(words))))\n",
    "stoi = { ch: i + 1 for i, ch in enumerate(chars) }\n",
    "stoi[\".\"] = 0\n",
    "itos = { i: ch for ch, i in stoi.items() }\n",
    "vocab_size = len(itos)\n",
    "\n",
    "# build the dataset\n",
    "block_size = 3  # using 3 contiguous characters to predict the next one\n",
    "def build_dataset(words):\n",
    "    X, Y = [], []\n",
    "    for w in words:\n",
    "        context = [0] * block_size\n",
    "        for ch in w + \".\":\n",
    "            ix = stoi[ch]\n",
    "            X.append(context)\n",
    "            Y.append(ix)\n",
    "            context = context[1:] + [ix]    # crop and append\n",
    "    return torch.tensor(X), torch.tensor(Y)\n",
    "\n",
    "# split the dataset, randomly\n",
    "import random\n",
    "\n",
    "random.seed(42)\n",
    "random.shuffle(words)\n",
    "\n",
    "n1 = int(0.8 * len(words))\n",
    "n2 = int(0.9 * len(words))\n",
    "\n",
    "Xtrain, Ytrain = build_dataset(words[:n1])  # 80%\n",
    "Xdev, Ydev = build_dataset(words[n1:n2])    # 10%\n",
    "Xtest, Ytest = build_dataset(words[n2:])    # 10%\n"
   ]
  },
  {
   "cell_type": "code",
   "execution_count": 2,
   "metadata": {},
   "outputs": [
    {
     "name": "stdout",
     "output_type": "stream",
     "text": [
      "#parameters in total: 11897\n"
     ]
    }
   ],
   "source": [
    "# parameters setting\n",
    "n_embd = 10     # the dimensionality of the character embedding vectors\n",
    "n_hidden = 200  # the number of hidden units\n",
    "\n",
    "g = torch.Generator().manual_seed(2147483647)   # consistent with Andrej's settings \n",
    "C = torch.randn((vocab_size, n_embd),               generator=g)\n",
    "W1 = torch.randn((n_embd * block_size, n_hidden),   generator=g) * 0.2\n",
    "b1 = torch.randn((n_hidden,),                       generator=g) * 0.01\n",
    "W2 = torch.randn((n_hidden, vocab_size),            generator=g) * 0.01\n",
    "b2 = torch.randn((vocab_size,),                     generator=g) * 0.0\n",
    "\n",
    "parameters = [C, W1, b1, W2, b2]        # collect all parameters\n",
    "print(\"#parameters in total:\", sum(p.numel() for p in parameters))\n",
    "for p in parameters:\n",
    "    p.requires_grad = True"
   ]
  },
  {
   "cell_type": "code",
   "execution_count": 3,
   "metadata": {},
   "outputs": [
    {
     "name": "stdout",
     "output_type": "stream",
     "text": [
      "      0/ 200000: loss=3.3348\n",
      "  10000/ 200000: loss=2.4961\n",
      "  20000/ 200000: loss=2.1709\n",
      "  30000/ 200000: loss=2.2708\n",
      "  40000/ 200000: loss=2.0242\n",
      "  50000/ 200000: loss=2.1155\n",
      "  60000/ 200000: loss=2.1064\n",
      "  70000/ 200000: loss=2.2962\n",
      "  80000/ 200000: loss=1.9192\n",
      "  90000/ 200000: loss=2.0338\n",
      " 100000/ 200000: loss=2.2806\n",
      " 110000/ 200000: loss=1.5927\n",
      " 120000/ 200000: loss=2.2562\n",
      " 130000/ 200000: loss=2.5138\n",
      " 140000/ 200000: loss=2.3903\n",
      " 150000/ 200000: loss=2.3540\n",
      " 160000/ 200000: loss=2.0533\n",
      " 170000/ 200000: loss=1.8152\n",
      " 180000/ 200000: loss=1.9431\n",
      " 190000/ 200000: loss=1.9783\n"
     ]
    }
   ],
   "source": [
    "# model training\n",
    "max_steps = 200000\n",
    "batch_size = 32\n",
    "lossi = []\n",
    "\n",
    "for i in range(max_steps):\n",
    "\n",
    "    # minibatch construction\n",
    "    ix = torch.randint(0, Xtrain.shape[0], (batch_size,))\n",
    "    Xb, Yb = Xtrain[ix], Ytrain[ix]     # batch X, Y\n",
    "\n",
    "    # forward pass\n",
    "    emb = C[Xb]                                   # character embeddings\n",
    "    embcat = emb.view(emb.shape[0], -1)           # concatenate the vectors\n",
    "    hpreact = embcat @ W1 + b1                    # pre-activation\n",
    "    h = torch.tanh(hpreact)                       # hidden layer\n",
    "    logits = h @ W2 + b2                          # output layer\n",
    "    loss = F.cross_entropy(logits, Yb)            # loss function\n",
    "\n",
    "    # backward pass\n",
    "    for p in parameters:\n",
    "        p.grad = None\n",
    "    loss.backward()\n",
    "\n",
    "    # update\n",
    "    lr = 0.1 if i < 100000 else 0.01              # learning rate decay\n",
    "    for p in parameters:\n",
    "        p.data -= lr * p.grad\n",
    "\n",
    "    # track stats\n",
    "    if i % 10000 == 0:\n",
    "        print(f\"{i:7d}/{max_steps:7d}: loss={loss.item():.4f}\")\n",
    "    lossi.append(loss.item())\n",
    "\n",
    "    # break\n"
   ]
  },
  {
   "cell_type": "code",
   "execution_count": null,
   "metadata": {},
   "outputs": [],
   "source": [
    "plt.hist(h.view(-1).tolist(), bins=50)"
   ]
  },
  {
   "cell_type": "code",
   "execution_count": null,
   "metadata": {},
   "outputs": [],
   "source": [
    "plt.figure(figsize=(15, 5))\n",
    "plt.imshow(h.abs() > 0.99, cmap=\"gray\", interpolation='nearest')"
   ]
  },
  {
   "cell_type": "code",
   "execution_count": null,
   "metadata": {},
   "outputs": [],
   "source": [
    "plt.hist(hpreact.view(-1).tolist(), bins=50)"
   ]
  },
  {
   "cell_type": "code",
   "execution_count": null,
   "metadata": {},
   "outputs": [],
   "source": [
    "plt.plot(lossi)"
   ]
  },
  {
   "cell_type": "code",
   "execution_count": 4,
   "metadata": {},
   "outputs": [
    {
     "name": "stdout",
     "output_type": "stream",
     "text": [
      "train loss: 2.0370\n",
      "val loss: 2.1059\n"
     ]
    }
   ],
   "source": [
    "@torch.no_grad()\n",
    "def split_loss(split):\n",
    "    x, y = {\n",
    "        \"train\": (Xtrain, Ytrain),\n",
    "        \"val\": (Xdev, Ydev),\n",
    "        \"test\": (Xtest, Ytest)\n",
    "    }[split]\n",
    "    emb = C[x]\n",
    "    embcat = emb.view(emb.shape[0], -1)\n",
    "    h = torch.tanh(embcat @ W1 + b1)\n",
    "    logits = h @ W2 + b2\n",
    "    loss = F.cross_entropy(logits, y)\n",
    "    print(f\"{split} loss: {loss.item():.4f}\")\n",
    "\n",
    "split_loss(\"train\")\n",
    "split_loss(\"val\")"
   ]
  },
  {
   "cell_type": "code",
   "execution_count": 5,
   "metadata": {},
   "outputs": [
    {
     "name": "stdout",
     "output_type": "stream",
     "text": [
      "mohanimyah.\n",
      "see.\n",
      "mel.\n",
      "rylia.\n",
      "emmaniendra.\n",
      "grazelynnelin.\n",
      "shy.\n",
      "jenne.\n",
      "elisso.\n",
      "aarielle.\n",
      "malaia.\n",
      "noshubergianaies.\n",
      "kindreelynn.\n",
      "novana.\n",
      "ubakard.\n",
      "ruyah.\n",
      "faeh.\n",
      "yuma.\n",
      "myson.\n",
      "daihia.\n"
     ]
    }
   ],
   "source": [
    "# sample from the model\n",
    "g = torch.Generator().manual_seed(2147483647 + 10)\n",
    "for _ in range(20):\n",
    "\n",
    "    out = []\n",
    "    context = [0] * block_size\n",
    "    while True:\n",
    "        emb = C[torch.tensor(context)]\n",
    "        h = torch.tanh(emb.view(1, -1) @ W1 + b1)\n",
    "        logits = h @ W2 + b2\n",
    "        probs = F.softmax(logits, dim=1)\n",
    "        # sample\n",
    "        ix = torch.multinomial(probs, num_samples=1, generator=g).item()\n",
    "        # shift and track\n",
    "        context = context[1:] + [ix]\n",
    "        out.append(ix)\n",
    "        if ix == 0:\n",
    "            break\n",
    "    \n",
    "    print(''.join(itos[i] for i in out))"
   ]
  },
  {
   "cell_type": "code",
   "execution_count": 6,
   "metadata": {},
   "outputs": [
    {
     "name": "stdout",
     "output_type": "stream",
     "text": [
      "tensor(0.0011) tensor(0.9886)\n",
      "tensor(0.0055) tensor(3.1956)\n"
     ]
    },
    {
     "data": {
      "image/png": "[encoded data removed]",
      "text/plain": [
       "<Figure size 2000x500 with 2 Axes>"
      ]
     },
     "metadata": {},
     "output_type": "display_data"
    }
   ],
   "source": [
    "x = torch.randn(1000, 10)\n",
    "w = torch.randn(10, 200)\n",
    "y = x @ w\n",
    "print(x.mean(), x.std())\n",
    "print(y.mean(), y.std())\n",
    "plt.figure(figsize=(20, 5))\n",
    "plt.subplot(1, 2, 1)\n",
    "plt.hist(x.view(-1).tolist(), bins=50, density=True);\n",
    "plt.subplot(1, 2, 2)\n",
    "plt.hist(y.view(-1).tolist(), bins=50, density=True);"
   ]
  },
  {
   "cell_type": "code",
   "execution_count": null,
   "metadata": {},
   "outputs": [],
   "source": []
  }
 ],
 "metadata": {
  "kernelspec": {
   "display_name": "base",
   "language": "python",
   "name": "python3"
  },
  "language_info": {
   "codemirror_mode": {
    "name": "ipython",
    "version": 3
   },
   "file_extension": ".py",
   "mimetype": "text/x-python",
   "name": "python",
   "nbconvert_exporter": "python",
   "pygments_lexer": "ipython3",
   "version": "3.11.5"
  }
 },
 "nbformat": 4,
 "nbformat_minor": 2
}
